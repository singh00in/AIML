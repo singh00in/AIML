{
  "nbformat": 4,
  "nbformat_minor": 0,
  "metadata": {
    "colab": {
      "provenance": [],
      "authorship_tag": "ABX9TyP9FOsvJRbZFGWud3+Hc2pW",
      "include_colab_link": true
    },
    "kernelspec": {
      "name": "python3",
      "display_name": "Python 3"
    },
    "language_info": {
      "name": "python"
    }
  },
  "cells": [
    {
      "cell_type": "markdown",
      "metadata": {
        "id": "view-in-github",
        "colab_type": "text"
      },
      "source": [
        "<a href=\"https://colab.research.google.com/github/singh00in/AIML/blob/main/Bagging_Bootstrapping_Practice.ipynb\" target=\"_parent\"><img src=\"https://colab.research.google.com/assets/colab-badge.svg\" alt=\"Open In Colab\"/></a>"
      ]
    },
    {
      "cell_type": "markdown",
      "source": [
        "**Bagging** Calculating Accuracy and Precesion , Data.CSV is available only Great learning enevirionment"
      ],
      "metadata": {
        "id": "cET_4r8URmFV"
      }
    },
    {
      "cell_type": "code",
      "execution_count": null,
      "metadata": {
        "id": "6NhPUS9_QKQw"
      },
      "outputs": [],
      "source": [
        "import pandas as pd\n",
        "from sklearn.model_selection import train_test_split\n",
        "from sklearn.ensemble import BaggingClassifier\n",
        "from sklearn.tree import DecisionTreeClassifier\n",
        "from sklearn.metrics import accuracy_score, precision_score\n",
        "\n",
        "df = pd.read_csv('data.csv')\n",
        "df_wine=df.copy()\n",
        "X=df_wine.drop(['Target'],axis=1)\n",
        "y=df_wine['Target']\n",
        "\n",
        "# Write your code below\n",
        "X_train,X_test,y_train,y_test=train_test_split(X,y,test_size=0.2,random_state=42)\n",
        "\n",
        "bagging_model=BaggingClassifier(random_state=1)\n",
        "bagging_model.fit(X_train,y_train)\n",
        "y_pred_train=bagging_model.predict(X_train)\n",
        "accuracy=accuracy_score(y_pred_train,y_train)\n",
        "precision=precision_score(y_pred_train,y_train)\n"
      ]
    }
  ]
}