{
  "nbformat": 4,
  "nbformat_minor": 0,
  "metadata": {
    "colab": {
      "provenance": [],
      "authorship_tag": "ABX9TyOOwYwW5zbteYmrRCvnWGwa",
      "include_colab_link": true
    },
    "kernelspec": {
      "name": "python3",
      "display_name": "Python 3"
    },
    "language_info": {
      "name": "python"
    }
  },
  "cells": [
    {
      "cell_type": "markdown",
      "metadata": {
        "id": "view-in-github",
        "colab_type": "text"
      },
      "source": [
        "<a href=\"https://colab.research.google.com/github/singh00in/AIML/blob/main/Bagging_Bootstrapping/Bagging_Bootstrapping_Practice.ipynb\" target=\"_parent\"><img src=\"https://colab.research.google.com/assets/colab-badge.svg\" alt=\"Open In Colab\"/></a>"
      ]
    },
    {
      "cell_type": "markdown",
      "source": [
        "**Bagging** Calculating Accuracy and Precesion , Data.CSV is available only Great learning enevirionment"
      ],
      "metadata": {
        "id": "cET_4r8URmFV"
      }
    },
    {
      "cell_type": "code",
      "execution_count": null,
      "metadata": {
        "id": "6NhPUS9_QKQw"
      },
      "outputs": [],
      "source": [
        "import pandas as pd\n",
        "from sklearn.model_selection import train_test_split\n",
        "from sklearn.ensemble import BaggingClassifier\n",
        "from sklearn.tree import DecisionTreeClassifier\n",
        "from sklearn.metrics import accuracy_score, precision_score\n",
        "\n",
        "df = pd.read_csv('data.csv')\n",
        "df_wine=df.copy()\n",
        "X=df_wine.drop(['Target'],axis=1)\n",
        "y=df_wine['Target']\n",
        "\n",
        "# Write your code below\n",
        "X_train,X_test,y_train,y_test=train_test_split(X,y,test_size=0.2,random_state=42)\n",
        "\n",
        "bagging_model=BaggingClassifier(random_state=1)\n",
        "bagging_model.fit(X_train,y_train)\n",
        "y_pred_train=bagging_model.predict(X_train)\n",
        "accuracy=accuracy_score(y_pred_train,y_train)\n",
        "precision=precision_score(y_pred_train,y_train)\n"
      ]
    },
    {
      "cell_type": "markdown",
      "source": [
        "**Confusion Matrix**"
      ],
      "metadata": {
        "id": "TQVhq7CVd1sF"
      }
    },
    {
      "cell_type": "code",
      "source": [
        "import numpy as np\n",
        "import pandas as pd\n",
        "from sklearn.model_selection import train_test_split\n",
        "from sklearn.ensemble import BaggingClassifier\n",
        "from sklearn.tree import DecisionTreeClassifier\n",
        "from sklearn.metrics import accuracy_score, precision_score\n",
        "from sklearn.metrics import confusion_matrix\n",
        "import matplotlib.pyplot as plt\n",
        "import seaborn as sns\n",
        "\n",
        "df = pd.read_csv('data.csv')\n",
        "\n",
        "X=df.iloc[:,:-1]\n",
        "y=df['Target']\n",
        "\n",
        "# Write your code below\n",
        "X_train,X_test,y_train,y_test=train_test_split(X,y,test_size=0.3,random_state=42)\n",
        "\n",
        "model=BaggingClassifier(random_state=42)\n",
        "model.fit(X_train,y_train)\n",
        "y_pred=model.predict(X_test)\n",
        "cm = confusion_matrix(y_test, y_pred)\n",
        "labels = np.asarray(\n",
        "    [\n",
        "        [\"{0:0.0f}\".format(item) + \"\\n{0:.2%}\".format(item / cm.flatten().sum())]\n",
        "        for item in cm.flatten()\n",
        "    ]\n",
        "    ).reshape(cm.shape)\n",
        "\n",
        "plt.figure(figsize=(6, 4))\n",
        "sns.heatmap(cm, annot=labels, fmt=\"\")\n",
        "plt.ylabel(\"True label\")\n",
        "plt.xlabel(\"Predicted label\")\n",
        "plt.title('Confusion Matrix')\n",
        "plt.show()"
      ],
      "metadata": {
        "id": "EGV6p6God_zI"
      },
      "execution_count": null,
      "outputs": []
    },
    {
      "cell_type": "markdown",
      "source": [
        "**Random Forest**"
      ],
      "metadata": {
        "id": "_54fZyYU3mrT"
      }
    },
    {
      "cell_type": "code",
      "source": [
        "import numpy as np\n",
        "import pandas as pd\n",
        "from sklearn.model_selection import train_test_split\n",
        "from sklearn.ensemble import RandomForestClassifier\n",
        "from sklearn.metrics import accuracy_score, precision_score\n",
        "\n",
        "# Reading the dataset\n",
        "df = pd.read_csv('data.csv')\n",
        "X=df.iloc[:,:-1]\n",
        "y=df['Target']\n",
        "X_train,X_test,y_train,y_test=train_test_split(X,y,test_size=0.2,random_state=42)\n",
        "model=RandomForestClassifier()\n",
        "model.fit(X_train,y_train)\n",
        "y_pred_train=model.predict(X_train)\n",
        "accuracy_train=accuracy_score(y_pred_train,y_train)\n",
        "precision_train=precision_score(y_pred_train,y_train)\n"
      ],
      "metadata": {
        "id": "ak_n9ZqM3sBb"
      },
      "execution_count": null,
      "outputs": []
    }
  ]
}